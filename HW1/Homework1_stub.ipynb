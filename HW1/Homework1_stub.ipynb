{
 "cells": [
  {
   "cell_type": "code",
   "execution_count": 14,
   "id": "d545425e",
   "metadata": {},
   "outputs": [],
   "source": [
    "import json\n",
    "from matplotlib import pyplot as plt\n",
    "from collections import defaultdict\n",
    "from sklearn import linear_model\n",
    "import numpy\n",
    "import random\n",
    "import gzip\n",
    "import math"
   ]
  },
  {
   "cell_type": "code",
   "execution_count": 15,
   "id": "d577aff3",
   "metadata": {},
   "outputs": [],
   "source": [
    "import warnings\n",
    "warnings.filterwarnings(\"ignore\")"
   ]
  },
  {
   "cell_type": "code",
   "execution_count": 16,
   "id": "e74ac91e",
   "metadata": {},
   "outputs": [],
   "source": [
    "def assertFloat(x): # Checks that an answer is a float\n",
    "    assert type(float(x)) == float\n",
    "\n",
    "def assertFloatList(items, N):\n",
    "    assert len(items) == N\n",
    "    assert [type(float(x)) for x in items] == [float]*N"
   ]
  },
  {
   "cell_type": "code",
   "execution_count": 17,
   "id": "1a7911bf",
   "metadata": {},
   "outputs": [
    {
     "ename": "FileNotFoundError",
     "evalue": "[Errno 2] No such file or directory: 'young_adult_10000.json.gz'",
     "output_type": "error",
     "traceback": [
      "\u001b[0;31m---------------------------------------------------------------------------\u001b[0m",
      "\u001b[0;31mFileNotFoundError\u001b[0m                         Traceback (most recent call last)",
      "Cell \u001b[0;32mIn[17], line 1\u001b[0m\n\u001b[0;32m----> 1\u001b[0m f \u001b[38;5;241m=\u001b[39m gzip\u001b[38;5;241m.\u001b[39mopen(\u001b[38;5;124m\"\u001b[39m\u001b[38;5;124myoung_adult_10000.json.gz\u001b[39m\u001b[38;5;124m\"\u001b[39m)\n\u001b[1;32m      2\u001b[0m dataset \u001b[38;5;241m=\u001b[39m []\n\u001b[1;32m      3\u001b[0m \u001b[38;5;28;01mfor\u001b[39;00m l \u001b[38;5;129;01min\u001b[39;00m f:\n",
      "File \u001b[0;32m/opt/anaconda3/lib/python3.11/gzip.py:58\u001b[0m, in \u001b[0;36mopen\u001b[0;34m(filename, mode, compresslevel, encoding, errors, newline)\u001b[0m\n\u001b[1;32m     56\u001b[0m gz_mode \u001b[38;5;241m=\u001b[39m mode\u001b[38;5;241m.\u001b[39mreplace(\u001b[38;5;124m\"\u001b[39m\u001b[38;5;124mt\u001b[39m\u001b[38;5;124m\"\u001b[39m, \u001b[38;5;124m\"\u001b[39m\u001b[38;5;124m\"\u001b[39m)\n\u001b[1;32m     57\u001b[0m \u001b[38;5;28;01mif\u001b[39;00m \u001b[38;5;28misinstance\u001b[39m(filename, (\u001b[38;5;28mstr\u001b[39m, \u001b[38;5;28mbytes\u001b[39m, os\u001b[38;5;241m.\u001b[39mPathLike)):\n\u001b[0;32m---> 58\u001b[0m     binary_file \u001b[38;5;241m=\u001b[39m GzipFile(filename, gz_mode, compresslevel)\n\u001b[1;32m     59\u001b[0m \u001b[38;5;28;01melif\u001b[39;00m \u001b[38;5;28mhasattr\u001b[39m(filename, \u001b[38;5;124m\"\u001b[39m\u001b[38;5;124mread\u001b[39m\u001b[38;5;124m\"\u001b[39m) \u001b[38;5;129;01mor\u001b[39;00m \u001b[38;5;28mhasattr\u001b[39m(filename, \u001b[38;5;124m\"\u001b[39m\u001b[38;5;124mwrite\u001b[39m\u001b[38;5;124m\"\u001b[39m):\n\u001b[1;32m     60\u001b[0m     binary_file \u001b[38;5;241m=\u001b[39m GzipFile(\u001b[38;5;28;01mNone\u001b[39;00m, gz_mode, compresslevel, filename)\n",
      "File \u001b[0;32m/opt/anaconda3/lib/python3.11/gzip.py:174\u001b[0m, in \u001b[0;36mGzipFile.__init__\u001b[0;34m(self, filename, mode, compresslevel, fileobj, mtime)\u001b[0m\n\u001b[1;32m    172\u001b[0m     mode \u001b[38;5;241m+\u001b[39m\u001b[38;5;241m=\u001b[39m \u001b[38;5;124m'\u001b[39m\u001b[38;5;124mb\u001b[39m\u001b[38;5;124m'\u001b[39m\n\u001b[1;32m    173\u001b[0m \u001b[38;5;28;01mif\u001b[39;00m fileobj \u001b[38;5;129;01mis\u001b[39;00m \u001b[38;5;28;01mNone\u001b[39;00m:\n\u001b[0;32m--> 174\u001b[0m     fileobj \u001b[38;5;241m=\u001b[39m \u001b[38;5;28mself\u001b[39m\u001b[38;5;241m.\u001b[39mmyfileobj \u001b[38;5;241m=\u001b[39m builtins\u001b[38;5;241m.\u001b[39mopen(filename, mode \u001b[38;5;129;01mor\u001b[39;00m \u001b[38;5;124m'\u001b[39m\u001b[38;5;124mrb\u001b[39m\u001b[38;5;124m'\u001b[39m)\n\u001b[1;32m    175\u001b[0m \u001b[38;5;28;01mif\u001b[39;00m filename \u001b[38;5;129;01mis\u001b[39;00m \u001b[38;5;28;01mNone\u001b[39;00m:\n\u001b[1;32m    176\u001b[0m     filename \u001b[38;5;241m=\u001b[39m \u001b[38;5;28mgetattr\u001b[39m(fileobj, \u001b[38;5;124m'\u001b[39m\u001b[38;5;124mname\u001b[39m\u001b[38;5;124m'\u001b[39m, \u001b[38;5;124m'\u001b[39m\u001b[38;5;124m'\u001b[39m)\n",
      "\u001b[0;31mFileNotFoundError\u001b[0m: [Errno 2] No such file or directory: 'young_adult_10000.json.gz'"
     ]
    }
   ],
   "source": [
    "f = gzip.open(\"young_adult_10000.json.gz\")\n",
    "dataset = []\n",
    "for l in f:\n",
    "    dataset.append(json.loads(l))"
   ]
  },
  {
   "cell_type": "code",
   "execution_count": 12,
   "id": "85100ed3",
   "metadata": {},
   "outputs": [
    {
     "data": {
      "text/plain": [
       "0"
      ]
     },
     "execution_count": 12,
     "metadata": {},
     "output_type": "execute_result"
    }
   ],
   "source": [
    "len(dataset)"
   ]
  },
  {
   "cell_type": "code",
   "execution_count": null,
   "id": "e716aa89",
   "metadata": {},
   "outputs": [],
   "source": [
    "answers = {} # Put your answers to each question in this dictionary"
   ]
  },
  {
   "cell_type": "code",
   "execution_count": null,
   "id": "cb2c286a",
   "metadata": {},
   "outputs": [],
   "source": [
    "dataset[0]"
   ]
  },
  {
   "cell_type": "code",
   "execution_count": null,
   "id": "2a260695",
   "metadata": {},
   "outputs": [],
   "source": [
    "### Question 1"
   ]
  },
  {
   "cell_type": "code",
   "execution_count": 18,
   "id": "fea5f8f2",
   "metadata": {},
   "outputs": [],
   "source": [
    "def feature(datum):\n",
    "    # your implementation\n",
    "    feat = datum['review_text'].count('!')\n",
    "    return [1] + [feat]"
   ]
  },
  {
   "cell_type": "code",
   "execution_count": null,
   "id": "8f00dea9",
   "metadata": {},
   "outputs": [],
   "source": [
    "X = [feature(d) for d in dataset]\n",
    "Y = [d['rating'] for d in dataset]"
   ]
  },
  {
   "cell_type": "code",
   "execution_count": null,
   "id": "f11f8b96",
   "metadata": {},
   "outputs": [],
   "source": [
    "theta, residual, rank, s = numpy.linalg.lstsq(X, Y)"
   ]
  },
  {
   "cell_type": "code",
   "execution_count": null,
   "id": "51581a4f",
   "metadata": {},
   "outputs": [],
   "source": [
    "answers['Q1'] = [theta0, theta1, mse]"
   ]
  },
  {
   "cell_type": "code",
   "execution_count": null,
   "id": "525fd954",
   "metadata": {},
   "outputs": [],
   "source": [
    "assertFloatList(answers['Q1'], 3) # Check the format of your answer (three floats)"
   ]
  },
  {
   "cell_type": "code",
   "execution_count": null,
   "id": "8b84731b",
   "metadata": {},
   "outputs": [],
   "source": [
    "### Question 2"
   ]
  },
  {
   "cell_type": "code",
   "execution_count": null,
   "id": "982ea2f5",
   "metadata": {},
   "outputs": [],
   "source": [
    "def feature(datum):\n",
    "    "
   ]
  },
  {
   "cell_type": "code",
   "execution_count": null,
   "id": "cda70702",
   "metadata": {},
   "outputs": [],
   "source": [
    "X = \n",
    "Y = "
   ]
  },
  {
   "cell_type": "code",
   "execution_count": null,
   "id": "f099afd8",
   "metadata": {},
   "outputs": [],
   "source": [
    "answers['Q2'] = [theta0, theta1, theta2, mse]"
   ]
  },
  {
   "cell_type": "code",
   "execution_count": null,
   "id": "31e2f9e8",
   "metadata": {},
   "outputs": [],
   "source": [
    "assertFloatList(answers['Q2'], 4)"
   ]
  },
  {
   "cell_type": "code",
   "execution_count": null,
   "id": "1147c4f6",
   "metadata": {},
   "outputs": [],
   "source": [
    "### Question 3"
   ]
  },
  {
   "cell_type": "code",
   "execution_count": null,
   "id": "78ef0f1e",
   "metadata": {},
   "outputs": [],
   "source": [
    "def feature(datum, deg):\n",
    "    # feature for a specific polynomial degree"
   ]
  },
  {
   "cell_type": "code",
   "execution_count": null,
   "id": "559faac4",
   "metadata": {},
   "outputs": [],
   "source": [
    "answers['Q3'] = mses"
   ]
  },
  {
   "cell_type": "code",
   "execution_count": null,
   "id": "bbb5da71",
   "metadata": {},
   "outputs": [],
   "source": [
    "assertFloatList(answers['Q3'], 5)# List of length 5"
   ]
  },
  {
   "cell_type": "code",
   "execution_count": null,
   "id": "dcbb8263",
   "metadata": {},
   "outputs": [],
   "source": [
    "### Question 4"
   ]
  },
  {
   "cell_type": "code",
   "execution_count": null,
   "id": "e91bc048",
   "metadata": {},
   "outputs": [],
   "source": []
  },
  {
   "cell_type": "code",
   "execution_count": null,
   "id": "fdd505ff",
   "metadata": {},
   "outputs": [],
   "source": [
    "answers['Q4'] = mses"
   ]
  },
  {
   "cell_type": "code",
   "execution_count": null,
   "id": "d2954061",
   "metadata": {},
   "outputs": [],
   "source": [
    "assertFloatList(answers['Q4'], 5)"
   ]
  },
  {
   "cell_type": "code",
   "execution_count": null,
   "id": "2fa286a5",
   "metadata": {},
   "outputs": [],
   "source": [
    "### Question 5"
   ]
  },
  {
   "cell_type": "code",
   "execution_count": null,
   "id": "81dcc36d",
   "metadata": {},
   "outputs": [],
   "source": []
  },
  {
   "cell_type": "code",
   "execution_count": null,
   "id": "b3a2e9b9",
   "metadata": {},
   "outputs": [],
   "source": [
    "answers['Q5'] = mae"
   ]
  },
  {
   "cell_type": "code",
   "execution_count": null,
   "id": "d71a47ed",
   "metadata": {},
   "outputs": [],
   "source": [
    "assertFloat(answers['Q5'])"
   ]
  },
  {
   "cell_type": "code",
   "execution_count": null,
   "id": "cf84f30c",
   "metadata": {},
   "outputs": [],
   "source": [
    "### Question 6"
   ]
  },
  {
   "cell_type": "code",
   "execution_count": null,
   "id": "19b5b795",
   "metadata": {},
   "outputs": [],
   "source": [
    "f = open(\"beer_50000.json\")\n",
    "dataset = []\n",
    "for l in f:\n",
    "    if 'user/gender' in l:\n",
    "        dataset.append(eval(l))"
   ]
  },
  {
   "cell_type": "code",
   "execution_count": null,
   "id": "299d4fee",
   "metadata": {},
   "outputs": [],
   "source": [
    "len(dataset)"
   ]
  },
  {
   "cell_type": "code",
   "execution_count": null,
   "id": "cf95bec0",
   "metadata": {},
   "outputs": [],
   "source": [
    "X = \n",
    "y = "
   ]
  },
  {
   "cell_type": "code",
   "execution_count": null,
   "id": "e0ce9c0b",
   "metadata": {},
   "outputs": [],
   "source": []
  },
  {
   "cell_type": "code",
   "execution_count": null,
   "id": "0c35d20a",
   "metadata": {},
   "outputs": [],
   "source": [
    "answers['Q6'] = [TP, TN, FP, FN, BER]"
   ]
  },
  {
   "cell_type": "code",
   "execution_count": null,
   "id": "9b18991a",
   "metadata": {},
   "outputs": [],
   "source": [
    "assertFloatList(answers['Q6'], 5)"
   ]
  },
  {
   "cell_type": "code",
   "execution_count": null,
   "id": "f066f3d5",
   "metadata": {},
   "outputs": [],
   "source": [
    "### Question 7"
   ]
  },
  {
   "cell_type": "code",
   "execution_count": null,
   "id": "d24c241f",
   "metadata": {},
   "outputs": [],
   "source": []
  },
  {
   "cell_type": "code",
   "execution_count": null,
   "id": "0622704c",
   "metadata": {},
   "outputs": [],
   "source": [
    "answers[\"Q7\"] = [TP, TN, FP, FN, BER]"
   ]
  },
  {
   "cell_type": "code",
   "execution_count": null,
   "id": "efb03c92",
   "metadata": {},
   "outputs": [],
   "source": [
    "assertFloatList(answers['Q7'], 5)"
   ]
  },
  {
   "cell_type": "code",
   "execution_count": null,
   "id": "0e622c2b",
   "metadata": {},
   "outputs": [],
   "source": [
    "### Question 8"
   ]
  },
  {
   "cell_type": "code",
   "execution_count": null,
   "id": "9b6bcea5",
   "metadata": {},
   "outputs": [],
   "source": []
  },
  {
   "cell_type": "code",
   "execution_count": null,
   "id": "764513e1",
   "metadata": {},
   "outputs": [],
   "source": [
    "answers['Q8'] = precisionList"
   ]
  },
  {
   "cell_type": "code",
   "execution_count": null,
   "id": "b0d7d87a",
   "metadata": {},
   "outputs": [],
   "source": [
    "assertFloatList(answers['Q8'], 5) #List of five floats"
   ]
  },
  {
   "cell_type": "code",
   "execution_count": null,
   "id": "d557ab88",
   "metadata": {},
   "outputs": [],
   "source": [
    "f = open(\"answers_hw1.txt\", 'w') # Write your answers to a file\n",
    "f.write(str(answers) + '\\n')\n",
    "f.close()"
   ]
  }
 ],
 "metadata": {
  "kernelspec": {
   "display_name": "base",
   "language": "python",
   "name": "python3"
  },
  "language_info": {
   "codemirror_mode": {
    "name": "ipython",
    "version": 3
   },
   "file_extension": ".py",
   "mimetype": "text/x-python",
   "name": "python",
   "nbconvert_exporter": "python",
   "pygments_lexer": "ipython3",
   "version": "3.11.7"
  }
 },
 "nbformat": 4,
 "nbformat_minor": 5
}
