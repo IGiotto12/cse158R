{
 "cells": [
  {
   "cell_type": "code",
   "execution_count": 2,
   "id": "45a9aa70-6780-4c94-a17d-846fd7839834",
   "metadata": {},
   "outputs": [
    {
     "name": "stdout",
     "output_type": "stream",
     "text": [
      "Requirement already satisfied: matplotlib in c:\\users\\igiot\\appdata\\local\\packages\\pythonsoftwarefoundation.python.3.11_qbz5n2kfra8p0\\localcache\\local-packages\\python311\\site-packages (3.9.2)\n",
      "Requirement already satisfied: scikit-learn in c:\\users\\igiot\\appdata\\local\\packages\\pythonsoftwarefoundation.python.3.11_qbz5n2kfra8p0\\localcache\\local-packages\\python311\\site-packages (1.5.2)\n",
      "Requirement already satisfied: numpy in c:\\users\\igiot\\appdata\\local\\packages\\pythonsoftwarefoundation.python.3.11_qbz5n2kfra8p0\\localcache\\local-packages\\python311\\site-packages (2.1.2)\n",
      "Requirement already satisfied: contourpy>=1.0.1 in c:\\users\\igiot\\appdata\\local\\packages\\pythonsoftwarefoundation.python.3.11_qbz5n2kfra8p0\\localcache\\local-packages\\python311\\site-packages (from matplotlib) (1.3.0)\n",
      "Requirement already satisfied: cycler>=0.10 in c:\\users\\igiot\\appdata\\local\\packages\\pythonsoftwarefoundation.python.3.11_qbz5n2kfra8p0\\localcache\\local-packages\\python311\\site-packages (from matplotlib) (0.12.1)\n",
      "Requirement already satisfied: fonttools>=4.22.0 in c:\\users\\igiot\\appdata\\local\\packages\\pythonsoftwarefoundation.python.3.11_qbz5n2kfra8p0\\localcache\\local-packages\\python311\\site-packages (from matplotlib) (4.54.1)\n",
      "Requirement already satisfied: kiwisolver>=1.3.1 in c:\\users\\igiot\\appdata\\local\\packages\\pythonsoftwarefoundation.python.3.11_qbz5n2kfra8p0\\localcache\\local-packages\\python311\\site-packages (from matplotlib) (1.4.7)\n",
      "Requirement already satisfied: packaging>=20.0 in c:\\users\\igiot\\appdata\\local\\packages\\pythonsoftwarefoundation.python.3.11_qbz5n2kfra8p0\\localcache\\local-packages\\python311\\site-packages (from matplotlib) (24.1)\n",
      "Requirement already satisfied: pillow>=8 in c:\\users\\igiot\\appdata\\local\\packages\\pythonsoftwarefoundation.python.3.11_qbz5n2kfra8p0\\localcache\\local-packages\\python311\\site-packages (from matplotlib) (11.0.0)\n",
      "Requirement already satisfied: pyparsing>=2.3.1 in c:\\users\\igiot\\appdata\\local\\packages\\pythonsoftwarefoundation.python.3.11_qbz5n2kfra8p0\\localcache\\local-packages\\python311\\site-packages (from matplotlib) (3.2.0)\n",
      "Requirement already satisfied: python-dateutil>=2.7 in c:\\users\\igiot\\appdata\\local\\packages\\pythonsoftwarefoundation.python.3.11_qbz5n2kfra8p0\\localcache\\local-packages\\python311\\site-packages (from matplotlib) (2.9.0.post0)\n",
      "Requirement already satisfied: scipy>=1.6.0 in c:\\users\\igiot\\appdata\\local\\packages\\pythonsoftwarefoundation.python.3.11_qbz5n2kfra8p0\\localcache\\local-packages\\python311\\site-packages (from scikit-learn) (1.14.1)\n",
      "Requirement already satisfied: joblib>=1.2.0 in c:\\users\\igiot\\appdata\\local\\packages\\pythonsoftwarefoundation.python.3.11_qbz5n2kfra8p0\\localcache\\local-packages\\python311\\site-packages (from scikit-learn) (1.4.2)\n",
      "Requirement already satisfied: threadpoolctl>=3.1.0 in c:\\users\\igiot\\appdata\\local\\packages\\pythonsoftwarefoundation.python.3.11_qbz5n2kfra8p0\\localcache\\local-packages\\python311\\site-packages (from scikit-learn) (3.5.0)\n",
      "Requirement already satisfied: six>=1.5 in c:\\users\\igiot\\appdata\\local\\packages\\pythonsoftwarefoundation.python.3.11_qbz5n2kfra8p0\\localcache\\local-packages\\python311\\site-packages (from python-dateutil>=2.7->matplotlib) (1.16.0)\n"
     ]
    },
    {
     "name": "stderr",
     "output_type": "stream",
     "text": [
      "\n",
      "[notice] A new release of pip is available: 24.0 -> 24.2\n",
      "[notice] To update, run: C:\\Users\\igiot\\AppData\\Local\\Microsoft\\WindowsApps\\PythonSoftwareFoundation.Python.3.11_qbz5n2kfra8p0\\python.exe -m pip install --upgrade pip\n"
     ]
    },
    {
     "ename": "ModuleNotFoundError",
     "evalue": "No module named 'matplotlib'",
     "output_type": "error",
     "traceback": [
      "\u001b[1;31m---------------------------------------------------------------------------\u001b[0m",
      "\u001b[1;31mModuleNotFoundError\u001b[0m                       Traceback (most recent call last)",
      "Cell \u001b[1;32mIn[2], line 3\u001b[0m\n\u001b[0;32m      1\u001b[0m get_ipython()\u001b[38;5;241m.\u001b[39msystem(\u001b[38;5;124m'\u001b[39m\u001b[38;5;124mpip install matplotlib scikit-learn numpy\u001b[39m\u001b[38;5;124m'\u001b[39m)\n\u001b[0;32m      2\u001b[0m \u001b[38;5;28;01mimport\u001b[39;00m \u001b[38;5;21;01mjson\u001b[39;00m\n\u001b[1;32m----> 3\u001b[0m \u001b[38;5;28;01mfrom\u001b[39;00m \u001b[38;5;21;01mmatplotlib\u001b[39;00m \u001b[38;5;28;01mimport\u001b[39;00m pyplot \u001b[38;5;28;01mas\u001b[39;00m plt\n\u001b[0;32m      4\u001b[0m \u001b[38;5;28;01mfrom\u001b[39;00m \u001b[38;5;21;01mcollections\u001b[39;00m \u001b[38;5;28;01mimport\u001b[39;00m defaultdict\n\u001b[0;32m      5\u001b[0m \u001b[38;5;28;01mfrom\u001b[39;00m \u001b[38;5;21;01msklearn\u001b[39;00m \u001b[38;5;28;01mimport\u001b[39;00m linear_model\n",
      "\u001b[1;31mModuleNotFoundError\u001b[0m: No module named 'matplotlib'"
     ]
    }
   ],
   "source": [
    "import json\n",
    "from matplotlib import pyplot as plt\n",
    "from collections import defaultdict\n",
    "from sklearn import linear_model\n",
    "import numpy\n",
    "import random\n",
    "import gzip\n",
    "import math"
   ]
  },
  {
   "cell_type": "code",
   "execution_count": 7,
   "id": "498faf8d-8941-475e-beb7-e519a3bf7245",
   "metadata": {},
   "outputs": [],
   "source": [
    "import warnings\n",
    "warnings.filterwarnings(\"ignore\")"
   ]
  },
  {
   "cell_type": "code",
   "execution_count": 8,
   "id": "721917b0-34ee-4bc3-abb0-de779b879eda",
   "metadata": {},
   "outputs": [],
   "source": [
    "def assertFloat(x): # Checks that an answer is a float\n",
    "    assert type(float(x)) == float\n",
    "\n",
    "def assertFloatList(items, N):\n",
    "    assert len(items) == N\n",
    "    assert [type(float(x)) for x in items] == [float]*N"
   ]
  },
  {
   "cell_type": "code",
   "execution_count": 11,
   "id": "f4c440e6-6270-47ca-8d96-6d0ac824b139",
   "metadata": {},
   "outputs": [],
   "source": [
    "f = gzip.open(\"young_adult_10000.json.gz\")\n",
    "dataset = []\n",
    "for l in f:\n",
    "    dataset.append(json.loads(l))"
   ]
  },
  {
   "cell_type": "code",
   "execution_count": 12,
   "id": "0dea5130-69f7-4cca-afe6-ad81cb506427",
   "metadata": {},
   "outputs": [
    {
     "data": {
      "text/plain": [
       "10000"
      ]
     },
     "execution_count": 12,
     "metadata": {},
     "output_type": "execute_result"
    }
   ],
   "source": [
    "len(dataset)"
   ]
  },
  {
   "cell_type": "code",
   "execution_count": 13,
   "id": "5ba1ea8b-9718-4dac-b45e-de9324cd00e4",
   "metadata": {},
   "outputs": [],
   "source": [
    "answers = {} # Put your answers to each question in this dictionary"
   ]
  },
  {
   "cell_type": "code",
   "execution_count": 30,
   "id": "128be659-2343-46b9-8cb0-f55b27d27e71",
   "metadata": {},
   "outputs": [
    {
     "data": {
      "text/plain": [
       "{'user_id': '8842281e1d1347389f2ab93d60773d4d',\n",
       " 'book_id': '2767052',\n",
       " 'review_id': '248c011811e945eca861b5c31a549291',\n",
       " 'rating': 5,\n",
       " 'review_text': \"I cracked and finally picked this up. Very enjoyable quick read - couldn't put it down - it was like crack. \\n I'm a bit bothered by the lack of backstory of how Panem and the Hunger Games come about. It is just kind of explained away in a few paragraphs and we are left to accept this very strange world where teenagers are pitted into an arena each year to kill each other? I was expecting it because I've seen Battle Royale, but I would have appreciated knowing more of the backstory of how the world could have come into such a odd state. \\n I suppose what makes a book like this interesting is thinking about the strategy of it all. The players are going to be statistically encouraged to band together because they will last longer that way, but by definition of course any partnership will be broken, and the drama of how that unfolds is always interesting and full of friendships broken and betrayal. Each character approached the game in their own way. Some banded together in larger coalitions, some were loners initially and banded together later. And some were just loners, like Foxface. A lot depended on your survival skill: could you find food and water on your own? Self-dependence is highly valued - and of course our hero was strong there. \\n All in all, a fun read, but I feel kind of dirty for having read it.\",\n",
       " 'date_added': 'Wed Jan 13 13:38:25 -0800 2010',\n",
       " 'date_updated': 'Wed Mar 22 11:46:36 -0700 2017',\n",
       " 'read_at': 'Sun Mar 25 00:00:00 -0700 2012',\n",
       " 'started_at': 'Fri Mar 23 00:00:00 -0700 2012',\n",
       " 'n_votes': 24,\n",
       " 'n_comments': 25}"
      ]
     },
     "execution_count": 30,
     "metadata": {},
     "output_type": "execute_result"
    }
   ],
   "source": [
    "dataset[0]"
   ]
  },
  {
   "cell_type": "code",
   "execution_count": 15,
   "id": "17091ebd-bc03-4c58-b9e8-ea7f5ee74a04",
   "metadata": {},
   "outputs": [],
   "source": [
    "### Question 1"
   ]
  },
  {
   "cell_type": "code",
   "execution_count": 91,
   "id": "ce81a630-36b1-49bc-bda5-f2271bbb82b1",
   "metadata": {},
   "outputs": [],
   "source": [
    "def feature(datum):\n",
    "    feat = datum['review_text'].count('!')\n",
    "    return [1] + [feat]"
   ]
  },
  {
   "cell_type": "code",
   "execution_count": 92,
   "id": "1a23728e-8d8e-4824-99c4-5fa9064db44e",
   "metadata": {},
   "outputs": [],
   "source": [
    "X = [feature(d) for d in dataset]\n",
    "Y = [d['rating'] for d in dataset]"
   ]
  },
  {
   "cell_type": "code",
   "execution_count": 93,
   "id": "a79a640c-16df-40f1-b608-05e123c9595b",
   "metadata": {},
   "outputs": [],
   "source": [
    "theta, residual, rank, s = numpy.linalg.lstsq(X, Y)"
   ]
  },
  {
   "cell_type": "code",
   "execution_count": 94,
   "id": "dbb61441-66a9-4e6c-96e6-03b3719f2a3a",
   "metadata": {},
   "outputs": [],
   "source": [
    "y_pred = X @ theta\n",
    "theta0, theta1, mse = theta[0], theta[1], numpy.mean((Y - y_pred)**2)"
   ]
  },
  {
   "cell_type": "code",
   "execution_count": 95,
   "id": "6b346a46-a58c-4a6c-b1a3-4c2adcdb94a4",
   "metadata": {},
   "outputs": [],
   "source": [
    "assertFloatList(answers['Q1'], 3) # Check the format of your answer (three floats)"
   ]
  },
  {
   "cell_type": "code",
   "execution_count": 96,
   "id": "ac13595a-3f07-4999-b078-0b5b0dbc6b2a",
   "metadata": {},
   "outputs": [],
   "source": [
    "answers['Q1'] = [theta0, theta1, mse]"
   ]
  },
  {
   "cell_type": "code",
   "execution_count": 97,
   "id": "f37c32fd-b137-4207-8a97-fb8d9d6e0678",
   "metadata": {},
   "outputs": [
    {
     "name": "stdout",
     "output_type": "stream",
     "text": [
      "Q1 mse is 1.5232\n"
     ]
    }
   ],
   "source": [
    "print(f'Q1 mse is {mse.round(4)}')"
   ]
  },
  {
   "cell_type": "code",
   "execution_count": null,
   "id": "8e151e6c-088c-430c-bee9-a7588d0f955f",
   "metadata": {},
   "outputs": [],
   "source": [
    "### Question 2"
   ]
  },
  {
   "cell_type": "code",
   "execution_count": 74,
   "id": "190a74f4-d796-461e-8c49-167339dea648",
   "metadata": {},
   "outputs": [],
   "source": [
    "def feature(datum):\n",
    "    feat1 = len(datum['review_text'])\n",
    "    feat2 = datum['review_text'].count('!')\n",
    "    return [1] + [feat1] + [feat2]"
   ]
  },
  {
   "cell_type": "code",
   "execution_count": 75,
   "id": "38bd726d-40f3-4a4a-8941-116b687159e1",
   "metadata": {},
   "outputs": [],
   "source": [
    "X = [feature(d) for d in dataset]\n",
    "Y = [d['rating'] for d in dataset]"
   ]
  },
  {
   "cell_type": "code",
   "execution_count": 76,
   "id": "93a8ab2c-b8d5-4080-9c42-a363baef8f97",
   "metadata": {},
   "outputs": [],
   "source": [
    "theta, residual, rank, s = numpy.linalg.lstsq(X, Y)"
   ]
  },
  {
   "cell_type": "code",
   "execution_count": 77,
   "id": "87bee0c1-3dbb-4d1f-a954-189e4e27349f",
   "metadata": {},
   "outputs": [],
   "source": [
    "y_pred = X @ theta\n",
    "theta0, theta1, theta2, mse = theta[0], theta[1], theta[2], numpy.mean((Y - y_pred)**2)"
   ]
  },
  {
   "cell_type": "code",
   "execution_count": 78,
   "id": "f6b127c2-3b07-42ba-8b19-0c7d0930c9b5",
   "metadata": {},
   "outputs": [],
   "source": [
    "answers['Q2'] = [theta0, theta1, theta2, mse]"
   ]
  },
  {
   "cell_type": "code",
   "execution_count": 79,
   "id": "5aff1b2d-8599-436f-9f3e-8762a6f0377e",
   "metadata": {},
   "outputs": [],
   "source": [
    "assertFloatList(answers['Q2'], 4)"
   ]
  },
  {
   "cell_type": "code",
   "execution_count": 90,
   "id": "2ecea593-becf-4578-8851-b68727bb7635",
   "metadata": {},
   "outputs": [
    {
     "name": "stdout",
     "output_type": "stream",
     "text": [
      "Q2 mse is 1.5214\n"
     ]
    }
   ],
   "source": [
    "print(f'Q2 mse is {mse.round(4)}')"
   ]
  },
  {
   "cell_type": "code",
   "execution_count": null,
   "id": "abb0b3ad-c6c0-483f-afdb-4d5ae0557d94",
   "metadata": {},
   "outputs": [],
   "source": [
    "### Question 3"
   ]
  },
  {
   "cell_type": "code",
   "execution_count": 186,
   "id": "8ae1b828-ad64-42a0-9538-045c85e06c3e",
   "metadata": {},
   "outputs": [],
   "source": [
    "def feature(datum, deg):\n",
    "    # feature for a specific polynomial degree\n",
    "    count = 0\n",
    "    feat = []\n",
    "    while count < deg:\n",
    "        count += 1\n",
    "        feat += [datum['review_text'].count('!') ** count]\n",
    "    return [1] + feat"
   ]
  },
  {
   "cell_type": "code",
   "execution_count": 190,
   "id": "cf71ef8a-1ac2-4f26-a9ce-9542239b2fbe",
   "metadata": {},
   "outputs": [],
   "source": [
    "mses = []\n",
    "for i in range(1, 6):\n",
    "    X = [feature(d, i) for d in dataset]\n",
    "    Y = [d['rating'] for d in dataset]\n",
    "    theta = numpy.linalg.lstsq(X, Y)[0]\n",
    "    y_pred = X @ theta\n",
    "    mses.append(numpy.mean((Y - y_pred)**2))"
   ]
  },
  {
   "cell_type": "code",
   "execution_count": 191,
   "id": "997efe53-518f-4832-8b27-0aa22ee236a6",
   "metadata": {},
   "outputs": [
    {
     "data": {
      "text/plain": [
       "[np.float64(1.5231747404538287),\n",
       " np.float64(1.5046686106250915),\n",
       " np.float64(1.496684551517923),\n",
       " np.float64(1.4904477302230692),\n",
       " np.float64(1.4896106953961648)]"
      ]
     },
     "execution_count": 191,
     "metadata": {},
     "output_type": "execute_result"
    }
   ],
   "source": [
    "mses"
   ]
  },
  {
   "cell_type": "code",
   "execution_count": 159,
   "id": "30402e01-ae89-402a-814d-17fa2928a27f",
   "metadata": {},
   "outputs": [],
   "source": [
    "answers['Q3'] = mses"
   ]
  },
  {
   "cell_type": "code",
   "execution_count": 160,
   "id": "7bf2d109-4ba9-4d78-a668-e84fc1c3459c",
   "metadata": {},
   "outputs": [],
   "source": [
    "assertFloatList(answers['Q3'], 5)# List of length 5"
   ]
  },
  {
   "cell_type": "code",
   "execution_count": 161,
   "id": "c808535f-7a02-46af-81de-43294d90901d",
   "metadata": {},
   "outputs": [],
   "source": [
    "### Question 4"
   ]
  },
  {
   "cell_type": "code",
   "execution_count": 162,
   "id": "b12d9ba6-16e0-4c09-9591-04cfc6c6605f",
   "metadata": {},
   "outputs": [],
   "source": [
    "def feature(datum, deg): # Same as above\n",
    "    # feature for a specific polynomial degree\n",
    "    count = 0\n",
    "    feat = []\n",
    "    while count < deg:\n",
    "        count += 1\n",
    "        feat += [datum['review_text'].count('!') ** count]\n",
    "    return [1] + feat"
   ]
  },
  {
   "cell_type": "code",
   "execution_count": 163,
   "id": "fc0979ab-2e93-4ec7-a0c8-6213f15e9125",
   "metadata": {},
   "outputs": [],
   "source": [
    "mses = []\n",
    "for i in range(1, 6):\n",
    "    X = [feature(d, i) for d in dataset]\n",
    "    X_train = X[:len(X)//2]\n",
    "    X_test = X[len(X)//2:]\n",
    "    Y = [d['rating'] for d in dataset]\n",
    "    Y_train = Y[:len(Y)//2]\n",
    "    Y_test = Y[len(Y)//2:]\n",
    "    \n",
    "    theta = numpy.linalg.lstsq(X_train, Y_train)[0]\n",
    "    y_pred = X_test @ theta # Correct?\n",
    "    mses.append(numpy.mean((Y_test - y_pred)**2))"
   ]
  },
  {
   "cell_type": "code",
   "execution_count": 164,
   "id": "3293fd24-6cd0-46f8-98e5-0cc0aafbaf16",
   "metadata": {},
   "outputs": [
    {
     "data": {
      "text/plain": [
       "[np.float64(1.5248743859866283),\n",
       " np.float64(1.4977199259322438),\n",
       " np.float64(1.4856632190311172),\n",
       " np.float64(1.4767337440079225),\n",
       " np.float64(1.4809577273470929)]"
      ]
     },
     "execution_count": 164,
     "metadata": {},
     "output_type": "execute_result"
    }
   ],
   "source": [
    "mses"
   ]
  },
  {
   "cell_type": "code",
   "execution_count": 165,
   "id": "fa427b4a-8e13-49d5-b519-98620efdd98e",
   "metadata": {},
   "outputs": [],
   "source": [
    "answers['Q4'] = mses"
   ]
  },
  {
   "cell_type": "code",
   "execution_count": 166,
   "id": "18b7a465-5dab-46b2-bf2b-d8072c707607",
   "metadata": {},
   "outputs": [],
   "source": [
    "assertFloatList(answers['Q4'], 5)"
   ]
  },
  {
   "cell_type": "code",
   "execution_count": 167,
   "id": "0dcd7348-7aab-46fa-b839-8dfb73c42ea8",
   "metadata": {},
   "outputs": [],
   "source": [
    "### Question 5"
   ]
  },
  {
   "cell_type": "code",
   "execution_count": 171,
   "id": "d8dd1294-797d-4146-ae6e-715a8d248940",
   "metadata": {},
   "outputs": [],
   "source": [
    "X = [1]*10000\n",
    "Y = [d['rating'] for d in dataset]"
   ]
  },
  {
   "cell_type": "code",
   "execution_count": 177,
   "id": "5ec8be41-f9fc-4175-9ecf-29446e55c30c",
   "metadata": {},
   "outputs": [],
   "source": [
    "# theta = numpy.linalg.lstsq(X, Y)[0] Wrong\n",
    "theta = numpy.median(Y)"
   ]
  },
  {
   "cell_type": "code",
   "execution_count": 181,
   "id": "0072639d-fdd5-4934-9810-0fce1177965e",
   "metadata": {},
   "outputs": [],
   "source": [
    "mae = numpy.mean(abs(Y - theta))"
   ]
  },
  {
   "cell_type": "code",
   "execution_count": 182,
   "id": "cda48b4d-d85c-4638-978f-936be89fe0f5",
   "metadata": {},
   "outputs": [
    {
     "data": {
      "text/plain": [
       "np.float64(0.8923)"
      ]
     },
     "execution_count": 182,
     "metadata": {},
     "output_type": "execute_result"
    }
   ],
   "source": [
    "mae"
   ]
  },
  {
   "cell_type": "code",
   "execution_count": 183,
   "id": "36b02ec6-3095-48d1-9fa3-8d1136fd5914",
   "metadata": {},
   "outputs": [],
   "source": [
    "answers['Q5'] = mae"
   ]
  },
  {
   "cell_type": "code",
   "execution_count": 184,
   "id": "5ba88e9f-8dd3-40cb-ab48-94778c913200",
   "metadata": {},
   "outputs": [],
   "source": [
    "assertFloat(answers['Q5'])"
   ]
  },
  {
   "cell_type": "code",
   "execution_count": 185,
   "id": "bb97b36a-aceb-4581-a0e6-71765ce2b9c6",
   "metadata": {},
   "outputs": [],
   "source": [
    "### Question 6"
   ]
  },
  {
   "cell_type": "code",
   "execution_count": 192,
   "id": "2ef03d9a-6f02-49af-b63e-98fd574a6ddb",
   "metadata": {},
   "outputs": [],
   "source": [
    "f = open(\"beer_50000.json\")\n",
    "dataset = []\n",
    "for l in f:\n",
    "    if 'user/gender' in l:\n",
    "        dataset.append(eval(l))"
   ]
  },
  {
   "cell_type": "code",
   "execution_count": 193,
   "id": "312250d3-c633-4bec-95ed-ae1cf5b7327d",
   "metadata": {},
   "outputs": [
    {
     "data": {
      "text/plain": [
       "20403"
      ]
     },
     "execution_count": 193,
     "metadata": {},
     "output_type": "execute_result"
    }
   ],
   "source": [
    "len(dataset)"
   ]
  },
  {
   "cell_type": "code",
   "execution_count": 197,
   "id": "023e351e-35eb-41fd-a11e-8b954f75b084",
   "metadata": {},
   "outputs": [
    {
     "data": {
      "text/plain": [
       "{'review/appearance': 4.0,\n",
       " 'beer/style': 'American Double / Imperial IPA',\n",
       " 'review/palate': 4.0,\n",
       " 'review/taste': 4.5,\n",
       " 'beer/name': 'Cauldron DIPA',\n",
       " 'review/timeUnix': 1293735206,\n",
       " 'user/gender': 'Male',\n",
       " 'user/birthdayRaw': 'Jun 16, 1901',\n",
       " 'beer/ABV': 7.7,\n",
       " 'beer/beerId': '64883',\n",
       " 'user/birthdayUnix': -2163081600,\n",
       " 'beer/brewerId': '1075',\n",
       " 'review/timeStruct': {'isdst': 0,\n",
       "  'mday': 30,\n",
       "  'hour': 18,\n",
       "  'min': 53,\n",
       "  'sec': 26,\n",
       "  'mon': 12,\n",
       "  'year': 2010,\n",
       "  'yday': 364,\n",
       "  'wday': 3},\n",
       " 'user/ageInSeconds': 3581417047,\n",
       " 'review/overall': 4.0,\n",
       " 'review/text': \"According to the website, the style for the Caldera Cauldron changes every year. The current release is a DIPA, which frankly is the only cauldron I'm familiar with (it was an IPA/DIPA the last time I ordered a cauldron at the horsebrass several years back). In any event... at the Horse Brass yesterday.\\t\\tThe beer pours an orange copper color with good head retention and lacing. The nose is all hoppy IPA goodness, showcasing a huge aroma of dry citrus, pine and sandlewood. The flavor profile replicates the nose pretty closely in this West Coast all the way DIPA. This DIPA is not for the faint of heart and is a bit much even for a hophead like myslf. The finish is quite dry and hoppy, and there's barely enough sweet malt to balance and hold up the avalanche of hoppy bitterness in this beer. Mouthfeel is actually fairly light, with a long, persistentely bitter finish. Drinkability is good, with the alcohol barely noticeable in this well crafted beer. Still, this beer is so hugely hoppy/bitter, it's really hard for me to imagine ordering more than a single glass. Regardless, this is a very impressive beer from the folks at Caldera.\",\n",
       " 'user/profileName': 'johnmichaelsen',\n",
       " 'review/aroma': 4.5}"
      ]
     },
     "execution_count": 197,
     "metadata": {},
     "output_type": "execute_result"
    }
   ],
   "source": [
    "dataset[0]"
   ]
  },
  {
   "cell_type": "code",
   "execution_count": null,
   "id": "b1c5beec-c0b5-4948-a2a2-09366fac3bf2",
   "metadata": {},
   "outputs": [],
   "source": [
    "def feature():\n",
    "    "
   ]
  },
  {
   "cell_type": "code",
   "execution_count": null,
   "id": "91b2e27f-8e27-4221-b7d7-a0d2b5a4b769",
   "metadata": {},
   "outputs": [],
   "source": [
    "X = [feature(d) for d in dataset]\n",
    "y = [d['user/gender'] for d in dataset]"
   ]
  },
  {
   "cell_type": "code",
   "execution_count": null,
   "id": "d3f2aa2c-f578-4abc-b011-2b5deaa89d9e",
   "metadata": {},
   "outputs": [],
   "source": []
  },
  {
   "cell_type": "code",
   "execution_count": null,
   "id": "142ffb68-e8e1-4117-a2ce-5d39c6acef34",
   "metadata": {},
   "outputs": [],
   "source": [
    "answers['Q6'] = [TP, TN, FP, FN, BER]"
   ]
  },
  {
   "cell_type": "code",
   "execution_count": null,
   "id": "95fe4bc7-9c26-4d6c-8720-421a13b4283d",
   "metadata": {},
   "outputs": [],
   "source": [
    "assertFloatList(answers['Q6'], 5)"
   ]
  },
  {
   "cell_type": "code",
   "execution_count": null,
   "id": "8c16f6be-ae42-46d9-bdcb-6b8901d4456f",
   "metadata": {},
   "outputs": [],
   "source": [
    "### Question 7"
   ]
  },
  {
   "cell_type": "code",
   "execution_count": null,
   "id": "1096084b-d5b2-470b-ad22-3cc66a391241",
   "metadata": {},
   "outputs": [],
   "source": []
  },
  {
   "cell_type": "code",
   "execution_count": null,
   "id": "70417aa2-9e03-4a20-8219-b22e37fcc35d",
   "metadata": {},
   "outputs": [],
   "source": [
    "answers[\"Q7\"] = [TP, TN, FP, FN, BER]"
   ]
  },
  {
   "cell_type": "code",
   "execution_count": null,
   "id": "1dd95615-d675-4fd0-8ed1-c4019375520d",
   "metadata": {},
   "outputs": [],
   "source": [
    "assertFloatList(answers['Q7'], 5)"
   ]
  },
  {
   "cell_type": "code",
   "execution_count": null,
   "id": "6b9cd119-5f34-443a-8040-82ab26263f05",
   "metadata": {},
   "outputs": [],
   "source": [
    "### Question 8"
   ]
  },
  {
   "cell_type": "code",
   "execution_count": null,
   "id": "87ae41c3-7f9c-4b93-8bf4-33e6c605de67",
   "metadata": {},
   "outputs": [],
   "source": []
  },
  {
   "cell_type": "code",
   "execution_count": null,
   "id": "ef7145fe-9f87-4ef9-a860-24feae2f72dc",
   "metadata": {},
   "outputs": [],
   "source": [
    "answers['Q8'] = precisionList"
   ]
  },
  {
   "cell_type": "code",
   "execution_count": null,
   "id": "1f6f5f70-9c48-4ba3-a058-fda934f0ad67",
   "metadata": {},
   "outputs": [],
   "source": [
    "assertFloatList(answers['Q8'], 5) #List of five floats"
   ]
  },
  {
   "cell_type": "code",
   "execution_count": null,
   "id": "34928bf4-ca72-4d49-93ba-17eb42937171",
   "metadata": {},
   "outputs": [],
   "source": [
    "f = open(\"answers_hw1.txt\", 'w') # Write your answers to a file\n",
    "f.write(str(answers) + '\\n')\n",
    "f.close()"
   ]
  },
  {
   "cell_type": "code",
   "execution_count": null,
   "id": "3d2c5c78-5480-4cf4-b683-d6f6a28b9033",
   "metadata": {},
   "outputs": [],
   "source": []
  },
  {
   "cell_type": "code",
   "execution_count": null,
   "id": "06f846e1-b6cb-4d7d-ac95-cb689f9d441b",
   "metadata": {},
   "outputs": [],
   "source": []
  },
  {
   "cell_type": "code",
   "execution_count": null,
   "id": "03bf562c-e2cf-445b-ab54-9949444eeb20",
   "metadata": {},
   "outputs": [],
   "source": []
  },
  {
   "cell_type": "code",
   "execution_count": null,
   "id": "f2ed244f-992a-4bda-a36f-c8f49fa6fd94",
   "metadata": {},
   "outputs": [],
   "source": []
  },
  {
   "cell_type": "code",
   "execution_count": null,
   "id": "06658eca-e7d9-4ecc-8ecc-5424ea0d6de6",
   "metadata": {},
   "outputs": [],
   "source": []
  }
 ],
 "metadata": {
  "kernelspec": {
   "display_name": "Python 3",
   "language": "python",
   "name": "python3"
  },
  "language_info": {
   "codemirror_mode": {
    "name": "ipython",
    "version": 3
   },
   "file_extension": ".py",
   "mimetype": "text/x-python",
   "name": "python",
   "nbconvert_exporter": "python",
   "pygments_lexer": "ipython3",
   "version": "3.12.7"
  }
 },
 "nbformat": 4,
 "nbformat_minor": 5
}
