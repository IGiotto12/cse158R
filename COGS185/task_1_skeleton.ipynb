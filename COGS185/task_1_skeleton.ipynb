{
 "cells": [
  {
   "cell_type": "markdown",
   "metadata": {},
   "source": [
    "# Task 1 Skeleton Code"
   ]
  },
  {
   "cell_type": "markdown",
   "metadata": {
    "ExecuteTime": {
     "end_time": "2018-02-19T08:13:57.455868Z",
     "start_time": "2018-02-19T08:13:57.434706Z"
    }
   },
   "source": [
    "## Getting Started with NumPy\n",
    "\n",
    "`NumPy` is the fundamental package for scientific computing with Python. It provides a powerful N-dimensional array object and functions for working with these arrays. Some basic use of this packages is shown below. This is **NOT** a problem, but you are highly recommended to run the following code with some of the input changed in order to understand the meaning of the operations."
   ]
  },
  {
   "cell_type": "markdown",
   "metadata": {},
   "source": [
    "### Arrays"
   ]
  },
  {
   "cell_type": "code",
   "execution_count": 1,
   "metadata": {},
   "outputs": [
    {
     "name": "stdout",
     "output_type": "stream",
     "text": [
      "[1 2 3]\n",
      "(3,)\n",
      "1D array: [1 2 3] Shape: (3,)\n",
      "2D array: [[1]\n",
      " [2]\n",
      " [3]] Shape: (3, 1)\n"
     ]
    }
   ],
   "source": [
    "import numpy as np             # Import the NumPy package\n",
    "\n",
    "v = np.array([1, 2, 3])        # A 1D array\n",
    "print(v)\n",
    "print(v.shape)                 # Print the size / shape of v\n",
    "print(\"1D array:\", v, \"Shape:\", v.shape)\n",
    "\n",
    "v = np.array([[1], [2], [3]])  # A 2D array\n",
    "print(\"2D array:\", v, \"Shape:\", v.shape) # Print the size of v and check the difference.\n",
    "\n",
    "# You can also attempt to compute and print the following values and their size.\n",
    "\n",
    "v = v.T                        # Transpose of a 2D array\n",
    "m = np.zeros([3, 4])           # A 2x3 array (i.e. matrix) of zeros\n",
    "v = np.ones([1, 3])            # A 1x3 array (i.e. a row vector) of ones\n",
    "v = np.ones([3, 1])            # A 3x1 array (i.e. a column vector) of ones\n",
    "m = np.eye(4)                  # Identity matrix\n",
    "m = np.random.rand(2, 3)       # A 2x3 random matrix with values in [0, 1] (sampled from uniform distribution)"
   ]
  },
  {
   "cell_type": "markdown",
   "metadata": {},
   "source": [
    "### Array Indexing"
   ]
  },
  {
   "cell_type": "code",
   "execution_count": 2,
   "metadata": {
    "ExecuteTime": {
     "end_time": "2018-02-19T08:13:58.418914Z",
     "start_time": "2018-02-19T08:13:58.410253Z"
    }
   },
   "outputs": [
    {
     "name": "stdout",
     "output_type": "stream",
     "text": [
      "Matrix\n",
      "[[1 2 3]\n",
      " [4 5 6]\n",
      " [7 8 9]]\n",
      "\n",
      "Access a single element\n",
      "2\n",
      "\n",
      "Modify a single element\n",
      "[[  1   2   3]\n",
      " [  4 100   6]\n",
      " [  7   8   9]]\n",
      "\n",
      "Access a subarray\n",
      "[4 5 6]\n",
      "[[4 5 6]]\n",
      "[[4 5 6]\n",
      " [7 8 9]]\n",
      "[[4 5 6]\n",
      " [7 8 9]]\n",
      "\n",
      "Modify a subarray\n",
      "[[1 1 1]\n",
      " [4 5 6]\n",
      " [7 8 9]]\n",
      "[[1 2 3]\n",
      " [1 5 6]\n",
      " [1 8 9]]\n",
      "[[1 1 3]\n",
      " [1 1 6]\n",
      " [7 8 9]]\n",
      "\n",
      "Transpose a subarray\n",
      "[4 5 6]\n",
      "[[4]\n",
      " [5]\n",
      " [6]]\n",
      "[[4 7]\n",
      " [5 8]\n",
      " [6 9]]\n",
      "[[4 7]\n",
      " [5 8]\n",
      " [6 9]]\n",
      "\n",
      "Reverse the order of a subarray\n",
      "[6 5 4]\n",
      "\n",
      "Boolean array indexing: Modify with a scaler\n",
      "[[1 2 0]\n",
      " [0 0 0]]\n",
      "\n",
      "Boolean array indexing: Modify with another array\n",
      "[[  1   2 100]\n",
      " [  4  10   6]]\n"
     ]
    }
   ],
   "source": [
    "import numpy as np\n",
    "\n",
    "print(\"Matrix\")\n",
    "m = np.array([[1, 2, 3], [4, 5, 6], [7, 8, 9]]) # Create a 3x3 array.\n",
    "print(m)\n",
    "\n",
    "print(\"\\nAccess a single element\")\n",
    "print(m[0, 1])                        # Access an element\n",
    "m[1, 1] = 100                         # Modify an element\n",
    "print(\"\\nModify a single element\")\n",
    "print(m)\n",
    "\n",
    "print(\"\\nAccess a subarray\")\n",
    "m = np.array([[1, 2, 3], [4, 5, 6], [7, 8, 9]]) # Create a 3x3 array.\n",
    "print(m[1, :])                        # Access a row (to 1D array)\n",
    "print(m[1:2, :])                      # Access a row (to 2D array)\n",
    "print(m[1:3, :])                      # Access a sub-matrix\n",
    "print(m[1:, :])                       # Access a sub-matrix\n",
    "\n",
    "print(\"\\nModify a subarray\")\n",
    "m = np.array([[1,2,3], [4,5,6], [7,8,9]]) # Create a 3x3 array.\n",
    "v1 = np.array([1,1,1])\n",
    "m[0] = v1\n",
    "print(m)\n",
    "m = np.array([[1,2,3], [4,5,6], [7,8,9]]) # Create a 3x3 array.\n",
    "v1 = np.array([1,1,1])\n",
    "m[:,0] = v1\n",
    "print(m)\n",
    "m = np.array([[1,2,3], [4,5,6], [7,8,9]]) # Create a 3x3 array.\n",
    "m1 = np.array([[1,1],[1,1]])\n",
    "m[:2,:2] = m1\n",
    "print(m)\n",
    "\n",
    "print(\"\\nTranspose a subarray\")\n",
    "m = np.array([[1, 2, 3], [4, 5, 6], [7, 8, 9]]) # Create a 3x3 array.\n",
    "print(m[1, :].T)                                # Notice the difference of the dimension of resulting array                    \n",
    "print(m[1:2, :].T)\n",
    "print(m[1:, :].T)\n",
    "print(np.transpose(m[1:, :], axes=(1,0)))       # np.transpose() can be used to transpose according given axes list.\n",
    "\n",
    "print(\"\\nReverse the order of a subarray\")\n",
    "print(m[1, ::-1])                               # Access a row with reversed order (to 1D array)\n",
    "\n",
    "# Boolean array indexing\n",
    "# Given a array m, create a new array with values equal to m \n",
    "# if they are greater than 2, and equal to 0 if they less than or equal to 2\n",
    "m = np.array([[1, 2, 3], [4, 5, 6]])\n",
    "m[m > 2] = 0\n",
    "print(\"\\nBoolean array indexing: Modify with a scaler\")\n",
    "print(m)\n",
    "\n",
    "# Given a array m, create a new array with values equal to those in m \n",
    "# if they are greater than 0, and equal to those in n if they less than or equal 0\n",
    "m = np.array([[1, 2, -3], [4, -5, 6]])\n",
    "n = np.array([[1, 10, 100], [1, 10, 100]])\n",
    "n[m > 0] = m[m > 0]\n",
    "print(\"\\nBoolean array indexing: Modify with another array\")\n",
    "print(n)"
   ]
  },
  {
   "cell_type": "markdown",
   "metadata": {},
   "source": [
    "### Array Dimension Operation"
   ]
  },
  {
   "cell_type": "code",
   "execution_count": 3,
   "metadata": {},
   "outputs": [
    {
     "name": "stdout",
     "output_type": "stream",
     "text": [
      "Matrix\n",
      "[[1 2]\n",
      " [3 4]] (2, 2)\n",
      "\n",
      "Reshape\n",
      "[[[1 2]\n",
      "  [3 4]]] (1, 2, 2)\n",
      "[[[1 2]]\n",
      "\n",
      " [[3 4]]] (2, 1, 2)\n",
      "[[[1]\n",
      "  [2]]\n",
      "\n",
      " [[3]\n",
      "  [4]]] (2, 2, 1)\n",
      "\n",
      "Stack\n",
      "[[[1 2]\n",
      "  [3 4]]\n",
      "\n",
      " [[1 1]\n",
      "  [1 1]]]\n",
      "\n",
      "Concatenate\n",
      "[[1 2]\n",
      " [3 4]\n",
      " [1 1]\n",
      " [1 1]]\n",
      "[[1 2]\n",
      " [3 4]\n",
      " [1 1]\n",
      " [1 1]]\n",
      "[[1 2 1 1]\n",
      " [3 4 1 1]]\n"
     ]
    }
   ],
   "source": [
    "import numpy as np\n",
    "\n",
    "print(\"Matrix\")\n",
    "m = np.array([[1, 2], [3, 4]]) # Create a 2x2 array.\n",
    "print(m, m.shape)\n",
    "\n",
    "print(\"\\nReshape\")\n",
    "re_m = m.reshape(1,2,2)  # Add one more dimension at first.\n",
    "print(re_m, re_m.shape)\n",
    "re_m = m.reshape(2,1,2)  # Add one more dimension in middle.\n",
    "print(re_m, re_m.shape)\n",
    "re_m = m.reshape(2,2,1)  # Add one more dimension at last.\n",
    "print(re_m, re_m.shape)\n",
    "\n",
    "print(\"\\nStack\")\n",
    "m1 = np.array([[1, 2], [3, 4]]) # Create a 2x2 array.\n",
    "m2 = np.array([[1, 1], [1, 1]]) # Create a 2x2 array.\n",
    "print(np.stack((m1,m2)))\n",
    "\n",
    "print(\"\\nConcatenate\")\n",
    "m1 = np.array([[1, 2], [3, 4]]) # Create a 2x2 array.\n",
    "m2 = np.array([[1, 1], [1, 1]]) # Create a 2x2 array.\n",
    "print(np.concatenate((m1,m2)))\n",
    "print(np.concatenate((m1,m2), axis=0))\n",
    "print(np.concatenate((m1,m2), axis=1))"
   ]
  },
  {
   "cell_type": "markdown",
   "metadata": {},
   "source": [
    "### Math Operations on Array\n",
    "**Element-wise Operations**"
   ]
  },
  {
   "cell_type": "code",
   "execution_count": 4,
   "metadata": {},
   "outputs": [
    {
     "name": "stdout",
     "output_type": "stream",
     "text": [
      "[[ 3.  6.  9.]\n",
      " [12. 15. 18.]]\n",
      "[[0.5 1.  1.5]\n",
      " [2.  2.5 3. ]]\n",
      "[[0. 1. 2.]\n",
      " [2. 2. 3.]]\n",
      "[[ 1.  4.  9.]\n",
      " [16. 25. 36.]]\n",
      "[[0.         0.69314718 1.09861229]\n",
      " [1.38629436 1.60943791 1.79175947]]\n",
      "[[  2.71828183   7.3890561   20.08553692]\n",
      " [ 54.59815003 148.4131591  403.42879349]]\n",
      "[[2. 3. 4.]\n",
      " [6. 7. 8.]]\n",
      "[[0. 1. 2.]\n",
      " [2. 3. 4.]]\n",
      "[[ 1.  2.  3.]\n",
      " [ 8. 10. 12.]]\n",
      "[[1.  2.  3. ]\n",
      " [2.  2.5 3. ]]\n",
      "[[ True False False]\n",
      " [False False False]]\n"
     ]
    }
   ],
   "source": [
    "import numpy as np\n",
    "\n",
    "a = np.array([[1, 2, 3], [4, 5, 6]], dtype=np.float64)\n",
    "print(a * 3)                                            # Scalar multiplication\n",
    "print(a / 2)                                            # Scalar division\n",
    "print(np.round(a / 2))\n",
    "print(np.power(a, 2))\n",
    "print(np.log(a))\n",
    "print(np.exp(a))\n",
    "\n",
    "b = np.array([[1, 1, 1], [2, 2, 2]], dtype=np.float64)\n",
    "print(a + b)                                            # Elementwise sum\n",
    "print(a - b)                                            # Elementwise difference\n",
    "print(a * b)                                            # Elementwise product\n",
    "print(a / b)                                            # Elementwise division\n",
    "print(a == b)                                           # Elementwise comparison"
   ]
  },
  {
   "cell_type": "markdown",
   "metadata": {},
   "source": [
    "**Broadcasting**"
   ]
  },
  {
   "cell_type": "code",
   "execution_count": 5,
   "metadata": {},
   "outputs": [
    {
     "name": "stdout",
     "output_type": "stream",
     "text": [
      "[[1. 2. 3.]\n",
      " [2. 4. 6.]]\n"
     ]
    }
   ],
   "source": [
    "# Note: See https://numpy.org/doc/stable/user/basics.broadcasting.html\n",
    "#       for more details.\n",
    "import numpy as np\n",
    "a = np.array([[1, 1, 1], [2, 2, 2]], dtype=np.float64)\n",
    "b = np.array([1, 2, 3])\n",
    "print(a*b)"
   ]
  },
  {
   "cell_type": "markdown",
   "metadata": {},
   "source": [
    "**Sum and Mean**"
   ]
  },
  {
   "cell_type": "code",
   "execution_count": 6,
   "metadata": {},
   "outputs": [
    {
     "name": "stdout",
     "output_type": "stream",
     "text": [
      "Sum of array\n",
      "21\n",
      "[5 7 9]\n",
      "[ 6 15]\n",
      "\n",
      "Mean of array\n",
      "3.5\n",
      "[2.5 3.5 4.5]\n",
      "[2. 5.]\n"
     ]
    }
   ],
   "source": [
    "import numpy as np\n",
    "\n",
    "a = np.array([[1, 2, 3], [4, 5, 6]])\n",
    "print(\"Sum of array\")\n",
    "print(np.sum(a))                # Sum of all array elements\n",
    "print(np.sum(a, axis=0))        # Sum of each column\n",
    "print(np.sum(a, axis=1))        # Sum of each row\n",
    "\n",
    "print(\"\\nMean of array\")\n",
    "print(np.mean(a))               # Mean of all array elements\n",
    "print(np.mean(a, axis=0))       # Mean of each column\n",
    "print(np.mean(a, axis=1))       # Mean of each row"
   ]
  },
  {
   "cell_type": "markdown",
   "metadata": {},
   "source": [
    "**Vector and Matrix Operations**"
   ]
  },
  {
   "cell_type": "code",
   "execution_count": 7,
   "metadata": {},
   "outputs": [
    {
     "name": "stdout",
     "output_type": "stream",
     "text": [
      "Matrix-matrix product\n",
      "[[3 3]\n",
      " [7 7]]\n",
      "[[4 4]\n",
      " [6 6]]\n",
      "\n",
      "Matrix-vector product\n",
      "[11 25]\n",
      "\n",
      "Vector-vector product\n",
      "11\n"
     ]
    }
   ],
   "source": [
    "import numpy as np\n",
    "\n",
    "a = np.array([[1, 2], [3, 4]])\n",
    "b = np.array([[1, 1], [1, 1]])\n",
    "print(\"Matrix-matrix product\")\n",
    "print(a.dot(b))                 # Matrix-matrix product\n",
    "print(a.T.dot(b.T))\n",
    "\n",
    "x = np.array([3, 4])  \n",
    "print(\"\\nMatrix-vector product\")\n",
    "print(a.dot(x))                 # Matrix-vector product\n",
    "\n",
    "x = np.array([1, 2])\n",
    "y = np.array([3, 4])\n",
    "print(\"\\nVector-vector product\")\n",
    "print(x.dot(y))                 # Vector-vector product"
   ]
  },
  {
   "cell_type": "markdown",
   "metadata": {},
   "source": [
    "### Matplotlib\n",
    "\n",
    "`Matplotlib` is a plotting library. We will use it to show the result in this assignment."
   ]
  },
  {
   "cell_type": "code",
   "execution_count": 8,
   "metadata": {},
   "outputs": [
    {
     "data": {
      "image/png": "[encoded data removed]",
      "text/plain": [
       "<Figure size 640x480 with 1 Axes>"
      ]
     },
     "metadata": {
      "image/png": {
       "height": 454,
       "width": 588
      }
     },
     "output_type": "display_data"
    }
   ],
   "source": [
    "%config InlineBackend.figure_format = 'retina' # For high-resolution.\n",
    "%matplotlib inline\n",
    "\n",
    "import numpy as np\n",
    "import matplotlib.pyplot as plt\n",
    "\n",
    "x = np.arange(-2., 2., 0.01) * np.pi\n",
    "plt.plot(x, np.sin(x))\n",
    "plt.xlabel('x')\n",
    "plt.ylabel('$\\sin(x)$ value') # '$...$' for a LaTeX formula.\n",
    "plt.title('Sine function')\n",
    "\n",
    "plt.show()"
   ]
  },
  {
   "cell_type": "markdown",
   "metadata": {},
   "source": [
    "This brief overview introduces many basic functions from `NumPy` and `Matplotlib`, but is far from complete. Check out more operations and their use in documentations for [NumPy](https://docs.scipy.org/doc/numpy/reference/) and [Matplotlib](https://matplotlib.org/)."
   ]
  },
  {
   "cell_type": "markdown",
   "metadata": {},
   "source": [
    "## Problem: Pytorch Basics (10 points)\n",
    "\n",
    "In the previous section, we introduced vector operations using `NumPy`. `PyTorch`, as a popular deep learning framework, offers a similar interface as `NumPy`. In this problem, you will use the vector operations provided by `PyTorch`. You may need to refer to the [official tutorial](https://pytorch.org/tutorials/beginner/blitz/tensor_tutorial.html).\n",
    "\n",
    "Suppose we have $W=\\begin{bmatrix} 1 & 2 & 3 & 4  \\\\ 5 & 6 & 7 & 8 \\\\ 9 & 10 & 11 & 12 \\\\ \\end{bmatrix}$, \n",
    "$\\mathbf{b}=\\begin{bmatrix} 3 \\\\ 2 \\\\ 1 \\end{bmatrix}$, and $\\mathbf{x}_1=\\begin{bmatrix} -1 \\\\ 3 \\\\ -4 \\\\ -3 \\end{bmatrix}$, $\\mathbf{x}_2 = \\begin{bmatrix} 1 \\\\ -2 \\\\ 3 \\end{bmatrix}$.\n",
    "\n",
    "The following code constructs $W$ matrix and vector $\\mathbf{b}, \\mathbf{x}_1, \\mathbf{x}_2$."
   ]
  },
  {
   "cell_type": "code",
   "execution_count": 9,
   "metadata": {},
   "outputs": [],
   "source": [
    "import torch\n",
    "\n",
    "W = torch.arange(1, 13).reshape(3, 4)\n",
    "b = torch.tensor([3, 2, 1])\n",
    "x_1 = torch.tensor([-1, 3, -4, -3])\n",
    "x_2 = torch.tensor([1, -2, 3])"
   ]
  },
  {
   "cell_type": "markdown",
   "metadata": {},
   "source": [
    "Now, use `PyTorch` to solve the following questions. You are supposed to use `PyTorch` **only, without** using `NumPy` or other libraries, including but not limited to converting `PyTorch` tensors to `NumPy` arrays or Python lists.\n",
    "\n",
    "All your outputs are expected to be a `PyTorch` tensor (or a scalar number, if applicable). \n",
    "\n",
    "**Use print to print out your results.** For instance, for the follow question (a), after getting your ``result = Wx1 + b``, do   ``print(result)``.\n",
    "\n",
    "(a) $W\\mathbf{x}_1 + \\mathbf{b}$"
   ]
  },
  {
   "cell_type": "code",
   "execution_count": 10,
   "metadata": {},
   "outputs": [
    {
     "name": "stdout",
     "output_type": "stream",
     "text": [
      "tensor([-16, -37, -58])\n"
     ]
    }
   ],
   "source": [
    "#### Write your code here ####\n",
    "result = W @ x_1 + b\n",
    "print(result)"
   ]
  },
  {
   "cell_type": "markdown",
   "metadata": {},
   "source": [
    "(b) $W^\\top \\mathbf{x}_2 + \\mathbf{x}_1$"
   ]
  },
  {
   "cell_type": "code",
   "execution_count": 11,
   "metadata": {},
   "outputs": [
    {
     "name": "stdout",
     "output_type": "stream",
     "text": [
      "tensor([17, 23, 18, 21])\n"
     ]
    }
   ],
   "source": [
    "#### Write your code here ####\n",
    "result = W.T @ x_2 + x_1\n",
    "print(result)"
   ]
  },
  {
   "cell_type": "markdown",
   "metadata": {},
   "source": [
    "(c) $\\mathbf{b} \\circ \\mathbf{x}_2$ ($\\circ$ operator means element-wise product)"
   ]
  },
  {
   "cell_type": "code",
   "execution_count": 12,
   "metadata": {},
   "outputs": [
    {
     "name": "stdout",
     "output_type": "stream",
     "text": [
      "tensor([ 3, -4,  3])\n"
     ]
    }
   ],
   "source": [
    "#### Write your code here ####\n",
    "result = b * x_2\n",
    "print(result)"
   ]
  },
  {
   "cell_type": "markdown",
   "metadata": {},
   "source": [
    "Suppose we have two more vectors $\\mathbf{x}_3 = \\begin{bmatrix} 2 \\\\ 4 \\\\ -3 \\end{bmatrix}$, $\\mathbf{x}_4 = \\begin{bmatrix} 4 \\\\ -3 \\\\ 2 \\end{bmatrix}$. "
   ]
  },
  {
   "cell_type": "markdown",
   "metadata": {},
   "source": [
    "(d) Compute the dot product of $\\mathbf{x}_3$ and $\\mathbf{x}_4$."
   ]
  },
  {
   "cell_type": "code",
   "execution_count": 13,
   "metadata": {},
   "outputs": [
    {
     "name": "stdout",
     "output_type": "stream",
     "text": [
      "tensor(-10)\n"
     ]
    }
   ],
   "source": [
    "# Construct x_3, x_4 and compute the dot product\n",
    "### Write your code here ####\n",
    "x_3 = torch.tensor([2, 4, -3])\n",
    "x_4 = torch.tensor([4, -3, 2])\n",
    "result = x_3.dot(x_4)\n",
    "print(result)\n"
   ]
  },
  {
   "cell_type": "markdown",
   "metadata": {},
   "source": [
    "(e) Suppose we have a new vector $\\mathbf{c} = \\begin{bmatrix} -1 \\\\ 3 \\\\ -2 \\\\ 1 \\end{bmatrix}$. We would like to compute $W^\\top \\mathbf{x} + \\mathbf{c}$ (where $\\mathbf{x}=\\mathbf{x}_3$ or $\\mathbf{x}_4$). For efficiency, we want to calculate it in a batched manner. \n",
    "\n",
    "Firstly, construct the vector $\\mathbf{c}$, and stack $\\mathbf{x}_3$ and $\\mathbf{x}_4$ such that you get a $3\\times 2$ matrix, as such\n",
    "\n",
    "$$\n",
    "X = \\begin{bmatrix}\n",
    "\\mathbf{x}_3 & \\mathbf{x}_4\n",
    "\\end{bmatrix}\n",
    "$$"
   ]
  },
  {
   "cell_type": "code",
   "execution_count": 14,
   "metadata": {},
   "outputs": [
    {
     "name": "stdout",
     "output_type": "stream",
     "text": [
      "tensor([[ 2,  4],\n",
      "        [ 4, -3],\n",
      "        [-3,  2]])\n"
     ]
    }
   ],
   "source": [
    "# Construct the vector c\n",
    "c = torch.tensor([-1, 3, -2, 1])\n",
    "\n",
    "# Stack x_3 and x_4 to obtain the matrix X\n",
    "# The shape of X should be 3x2\n",
    "#### Write your code here ####\n",
    "X = torch.stack([x_3, x_4], axis=1)\n",
    "print(X)"
   ]
  },
  {
   "cell_type": "markdown",
   "metadata": {},
   "source": [
    "Now, you are supposed to calculate \n",
    "$$\n",
    "W^\\top X + \\mathbf{c}\n",
    "$$\n",
    "\n",
    "The result should be of shape $4\\times 2$. (Hint: To do it in a batched manner, you may want to convert the vector $\\mathbf{c}$ to a matrix.)"
   ]
  },
  {
   "cell_type": "code",
   "execution_count": 15,
   "metadata": {},
   "outputs": [
    {
     "name": "stdout",
     "output_type": "stream",
     "text": [
      "tensor([[-6,  6],\n",
      "        [ 1, 13],\n",
      "        [-1, 11],\n",
      "        [ 5, 17]])\n"
     ]
    }
   ],
   "source": [
    "#### Write your code here ####\n",
    "result = W.T @ X + c.unsqueeze(1)\n",
    "print(result)"
   ]
  },
  {
   "cell_type": "markdown",
   "metadata": {},
   "source": [
    "(f) Create a tensor of size (3, 5) with random values drawn from a normal distribution (mean 0 and variance 1). \n",
    "\n",
    "Use a built-in function in PyTorch to create this tensor. Print out the tensor and its shape."
   ]
  },
  {
   "cell_type": "code",
   "execution_count": 16,
   "metadata": {},
   "outputs": [
    {
     "name": "stdout",
     "output_type": "stream",
     "text": [
      "tensor([[ 0.2548, -0.0043,  1.5736, -1.3666, -0.2223],\n",
      "        [ 0.8181,  0.0924, -1.8706, -0.3328, -0.4447],\n",
      "        [ 0.9110, -1.7505,  0.5539,  1.0776, -1.7615]])\n",
      "torch.Size([3, 5])\n",
      "torch.Size([3, 5])\n"
     ]
    }
   ],
   "source": [
    "# Create the tensor\n",
    "#### Write your code here ####\n",
    "matrix = torch.randn(3, 5)\n",
    "\n",
    "# Print out this tensor\n",
    "#### Write your code here ####\n",
    "print(matrix)\n",
    "\n",
    "# Print out the shape of the tensor\n",
    "#### Write your code here ####\n",
    "print(matrix.shape)\n",
    "\n",
    "# Print out the size of the tensor\n",
    "#### Write your code here ####\n",
    "print(matrix.size())"
   ]
  }
 ],
 "metadata": {
  "kernelspec": {
   "display_name": "Python 3",
   "language": "python",
   "name": "python3"
  },
  "language_info": {
   "codemirror_mode": {
    "name": "ipython",
    "version": 3
   },
   "file_extension": ".py",
   "mimetype": "text/x-python",
   "name": "python",
   "nbconvert_exporter": "python",
   "pygments_lexer": "ipython3",
   "version": "3.11.5"
  },
  "toc": {
   "colors": {
    "hover_highlight": "#DAA520",
    "navigate_num": "#000000",
    "navigate_text": "#333333",
    "running_highlight": "#FF0000",
    "selected_highlight": "#FFD700",
    "sidebar_border": "#EEEEEE",
    "wrapper_background": "#FFFFFF"
   },
   "moveMenuLeft": true,
   "nav_menu": {
    "height": "84px",
    "width": "252px"
   },
   "navigate_menu": true,
   "number_sections": true,
   "sideBar": true,
   "threshold": 4,
   "toc_cell": false,
   "toc_section_display": "block",
   "toc_window_display": false,
   "widenNotebook": false
  }
 },
 "nbformat": 4,
 "nbformat_minor": 2
}
